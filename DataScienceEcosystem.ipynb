{
 "cells": [
  {
   "cell_type": "markdown",
   "id": "61bc0015-8f60-404d-b060-21d79ee12124",
   "metadata": {},
   "source": [
    "# Data Science Tools and Ecosystem"
   ]
  },
  {
   "cell_type": "markdown",
   "id": "abf3ad5d-f7c3-462d-90e0-f9a5ce68167a",
   "metadata": {},
   "source": [
    "In this notebook, Data Science Tools and Ecosystem are summarized."
   ]
  },
  {
   "cell_type": "markdown",
   "id": "034b6b6d-f5aa-4262-9626-0f5606babbf7",
   "metadata": {},
   "source": [
    "__Objectives:__\n",
    "+ list Data Science languages\n",
    "+ list Data Science libraries\n",
    "+ list Data Science tools"
   ]
  },
  {
   "cell_type": "markdown",
   "id": "70e01d6a-9c43-4488-b63a-87f4acacca56",
   "metadata": {},
   "source": [
    "Some of the popular languages that Data Scientists use are:\n",
    "1. Python\n",
    "2. R\n",
    "3. Julia"
   ]
  },
  {
   "cell_type": "markdown",
   "id": "146492e9-0d6d-4783-854f-dc3a33f281b3",
   "metadata": {},
   "source": [
    "Some of the commonly used libraries used by Data Scientists include:\n",
    "1. numpy\n",
    "2. matpotlib\n",
    "3. pandas"
   ]
  },
  {
   "cell_type": "markdown",
   "id": "edcd6f1e-4f81-4eb0-bb99-b834e7b133eb",
   "metadata": {},
   "source": [
    "| Data Science Tools |\n",
    "| -------------|\n",
    "|jupyter notebook | \n",
    "| RStudio  |\n",
    "| jupyter Lab | "
   ]
  },
  {
   "cell_type": "markdown",
   "id": "3ef3b597-0ba2-404f-bee8-264f5d9a6c86",
   "metadata": {},
   "source": [
    "### Below are a few examples of evaluating arithmetic expressions in Python"
   ]
  },
  {
   "cell_type": "code",
   "execution_count": 1,
   "id": "2e8996c2-c2d9-4708-abc5-d311c35771c4",
   "metadata": {},
   "outputs": [
    {
     "data": {
      "text/plain": [
       "17"
      ]
     },
     "execution_count": 1,
     "metadata": {},
     "output_type": "execute_result"
    }
   ],
   "source": [
    "#This a simple arithmetic expression to mutiply then add integers\n",
    "(3*4)+5"
   ]
  },
  {
   "cell_type": "code",
   "execution_count": 2,
   "id": "39373c1f-327c-40be-867b-c225106934db",
   "metadata": {},
   "outputs": [
    {
     "data": {
      "text/plain": [
       "3.3333333333333335"
      ]
     },
     "execution_count": 2,
     "metadata": {},
     "output_type": "execute_result"
    }
   ],
   "source": [
    "# This will convert 200 minutes to hours by diving by 60.\n",
    "200/60"
   ]
  },
  {
   "cell_type": "markdown",
   "id": "b0de4be9-dbb7-4425-8d6a-588af5c6274d",
   "metadata": {},
   "source": [
    "## Author\n",
    "Anna"
   ]
  },
  {
   "cell_type": "code",
   "execution_count": null,
   "id": "1ea774b8-3a31-4663-8c84-318f0ed31da6",
   "metadata": {},
   "outputs": [],
   "source": []
  }
 ],
 "metadata": {
  "kernelspec": {
   "display_name": "Python 3 (ipykernel)",
   "language": "python",
   "name": "python3"
  },
  "language_info": {
   "codemirror_mode": {
    "name": "ipython",
    "version": 3
   },
   "file_extension": ".py",
   "mimetype": "text/x-python",
   "name": "python",
   "nbconvert_exporter": "python",
   "pygments_lexer": "ipython3",
   "version": "3.12.7"
  }
 },
 "nbformat": 4,
 "nbformat_minor": 5
}
